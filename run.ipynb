{
 "cells": [
  {
   "cell_type": "code",
   "execution_count": 1,
   "metadata": {},
   "outputs": [],
   "source": [
    "import os\n",
    "import tensorflow as tf\n",
    "\n",
    "from data import Dataset\n",
    "import hyperparameters as hp\n",
    "from model import Model"
   ]
  },
  {
   "cell_type": "code",
   "execution_count": 2,
   "metadata": {},
   "outputs": [],
   "source": [
    "def train(model, datasets):\n",
    "    model.fit(\n",
    "        x=datasets.train_data,\n",
    "        validation_data=datasets.test_data,\n",
    "        epochs=hp.num_epochs,\n",
    "        batch_size=None,\n",
    "    )\n",
    "\n",
    "\n",
    "def test(model, test_data):\n",
    "    model.evaluate(\n",
    "        x=test_data,\n",
    "        verbose=1,\n",
    "    )"
   ]
  },
  {
   "cell_type": "code",
   "execution_count": 3,
   "metadata": {},
   "outputs": [
    {
     "name": "stdout",
     "output_type": "stream",
     "text": [
      "Found 117 images belonging to 1 classes.\n",
      "Found 120 images belonging to 1 classes.\n",
      "Metal device set to: Apple M1 Max\n",
      "\n",
      "systemMemory: 64.00 GB\n",
      "maxCacheSize: 24.00 GB\n",
      "\n"
     ]
    },
    {
     "name": "stderr",
     "output_type": "stream",
     "text": [
      "2022-05-04 13:55:20.877207: I tensorflow/core/common_runtime/pluggable_device/pluggable_device_factory.cc:305] Could not identify NUMA node of platform GPU ID 0, defaulting to 0. Your kernel may not have been built with NUMA support.\n",
      "2022-05-04 13:55:20.877366: I tensorflow/core/common_runtime/pluggable_device/pluggable_device_factory.cc:271] Created TensorFlow device (/job:localhost/replica:0/task:0/device:GPU:0 with 0 MB memory) -> physical PluggableDevice (device: 0, name: METAL, pci bus id: <undefined>)\n"
     ]
    },
    {
     "name": "stdout",
     "output_type": "stream",
     "text": [
      "Model: \"model\"\n",
      "_________________________________________________________________\n",
      " Layer (type)                Output Shape              Param #   \n",
      "=================================================================\n",
      " dense1_256 (Dense)          multiple                  65792     \n",
      "                                                                 \n",
      " dropout (Dropout)           multiple                  0         \n",
      "                                                                 \n",
      " dense2_256 (Dense)          multiple                  65792     \n",
      "                                                                 \n",
      " dropout_1 (Dropout)         multiple                  0         \n",
      "                                                                 \n",
      " dense (Dense)               multiple                  3855      \n",
      "                                                                 \n",
      "=================================================================\n",
      "Total params: 135,439\n",
      "Trainable params: 135,439\n",
      "Non-trainable params: 0\n",
      "_________________________________________________________________\n"
     ]
    }
   ],
   "source": [
    "dataset = Dataset(\"data/\")\n",
    "model = Model()\n",
    "model(tf.keras.Input(shape=(hp.img_size, hp.img_size)))\n",
    "model.summary()"
   ]
  },
  {
   "cell_type": "code",
   "execution_count": 4,
   "metadata": {},
   "outputs": [],
   "source": [
    "model.compile(\n",
    "        optimizer=model.optimizer,\n",
    "        loss='mse',\n",
    "        metrics=[tf.keras.metrics.MeanSquaredError()],\n",
    "    )"
   ]
  },
  {
   "cell_type": "code",
   "execution_count": 5,
   "metadata": {},
   "outputs": [
    {
     "name": "stdout",
     "output_type": "stream",
     "text": [
      "Epoch 1/10\n"
     ]
    },
    {
     "name": "stderr",
     "output_type": "stream",
     "text": [
      "2022-05-04 13:55:22.204481: W tensorflow/core/platform/profile_utils/cpu_utils.cc:128] Failed to get CPU frequency: 0 Hz\n",
      "2022-05-04 13:55:22.494819: I tensorflow/core/grappler/optimizers/custom_graph_optimizer_registry.cc:113] Plugin optimizer for device_type GPU is enabled.\n",
      "2022-05-04 13:55:22.546367: W tensorflow/core/framework/op_kernel.cc:1733] INVALID_ARGUMENT: ValueError: the input array must have size 3 along `channel_axis`, got (117, 1)\n",
      "Traceback (most recent call last):\n",
      "\n",
      "  File \"/opt/homebrew/Caskroom/miniforge/base/envs/cs1430_env_tf/lib/python3.8/site-packages/tensorflow/python/ops/script_ops.py\", line 271, in __call__\n",
      "    ret = func(*args)\n",
      "\n",
      "  File \"/opt/homebrew/Caskroom/miniforge/base/envs/cs1430_env_tf/lib/python3.8/site-packages/tensorflow/python/autograph/impl/api.py\", line 642, in wrapper\n",
      "    return func(*args, **kwargs)\n",
      "\n",
      "  File \"/opt/homebrew/Caskroom/miniforge/base/envs/cs1430_env_tf/lib/python3.8/site-packages/tensorflow/python/data/ops/dataset_ops.py\", line 1004, in generator_py_func\n",
      "    values = next(generator_state.get_iterator(iterator_id))\n",
      "\n",
      "  File \"/opt/homebrew/Caskroom/miniforge/base/envs/cs1430_env_tf/lib/python3.8/site-packages/keras/engine/data_adapter.py\", line 830, in wrapped_generator\n",
      "    for data in generator_fn():\n",
      "\n",
      "  File \"/Users/jiahuachen/Documents/Coursework/2022-spring/csci1430/colorizer/data.py\", line 52, in data_rgb_to_l_ab\n",
      "    im_lab = rgb2lab(im)\n",
      "\n",
      "  File \"/opt/homebrew/Caskroom/miniforge/base/envs/cs1430_env_tf/lib/python3.8/site-packages/skimage/_shared/utils.py\", line 394, in fixed_func\n",
      "    return func(*args, **kwargs)\n",
      "\n",
      "  File \"/opt/homebrew/Caskroom/miniforge/base/envs/cs1430_env_tf/lib/python3.8/site-packages/skimage/color/colorconv.py\", line 1139, in rgb2lab\n",
      "    return xyz2lab(rgb2xyz(rgb), illuminant, observer)\n",
      "\n",
      "  File \"/opt/homebrew/Caskroom/miniforge/base/envs/cs1430_env_tf/lib/python3.8/site-packages/skimage/_shared/utils.py\", line 394, in fixed_func\n",
      "    return func(*args, **kwargs)\n",
      "\n",
      "  File \"/opt/homebrew/Caskroom/miniforge/base/envs/cs1430_env_tf/lib/python3.8/site-packages/skimage/color/colorconv.py\", line 746, in rgb2xyz\n",
      "    arr = _prepare_colorarray(rgb, channel_axis=-1).copy()\n",
      "\n",
      "  File \"/opt/homebrew/Caskroom/miniforge/base/envs/cs1430_env_tf/lib/python3.8/site-packages/skimage/color/colorconv.py\", line 140, in _prepare_colorarray\n",
      "    raise ValueError(msg)\n",
      "\n",
      "ValueError: the input array must have size 3 along `channel_axis`, got (117, 1)\n",
      "\n",
      "\n"
     ]
    },
    {
     "ename": "InvalidArgumentError",
     "evalue": "Graph execution error:\n\nDetected at node 'model/dense1_256/Tensordot/MatMul' defined at (most recent call last):\n    File \"/opt/homebrew/Caskroom/miniforge/base/envs/cs1430_env_tf/lib/python3.8/runpy.py\", line 194, in _run_module_as_main\n      return _run_code(code, main_globals, None,\n    File \"/opt/homebrew/Caskroom/miniforge/base/envs/cs1430_env_tf/lib/python3.8/runpy.py\", line 87, in _run_code\n      exec(code, run_globals)\n    File \"/opt/homebrew/Caskroom/miniforge/base/envs/cs1430_env_tf/lib/python3.8/site-packages/ipykernel_launcher.py\", line 17, in <module>\n      app.launch_new_instance()\n    File \"/opt/homebrew/Caskroom/miniforge/base/envs/cs1430_env_tf/lib/python3.8/site-packages/traitlets/config/application.py\", line 846, in launch_instance\n      app.start()\n    File \"/opt/homebrew/Caskroom/miniforge/base/envs/cs1430_env_tf/lib/python3.8/site-packages/ipykernel/kernelapp.py\", line 712, in start\n      self.io_loop.start()\n    File \"/opt/homebrew/Caskroom/miniforge/base/envs/cs1430_env_tf/lib/python3.8/site-packages/tornado/platform/asyncio.py\", line 199, in start\n      self.asyncio_loop.run_forever()\n    File \"/opt/homebrew/Caskroom/miniforge/base/envs/cs1430_env_tf/lib/python3.8/asyncio/base_events.py\", line 570, in run_forever\n      self._run_once()\n    File \"/opt/homebrew/Caskroom/miniforge/base/envs/cs1430_env_tf/lib/python3.8/asyncio/base_events.py\", line 1859, in _run_once\n      handle._run()\n    File \"/opt/homebrew/Caskroom/miniforge/base/envs/cs1430_env_tf/lib/python3.8/asyncio/events.py\", line 81, in _run\n      self._context.run(self._callback, *self._args)\n    File \"/opt/homebrew/Caskroom/miniforge/base/envs/cs1430_env_tf/lib/python3.8/site-packages/ipykernel/kernelbase.py\", line 504, in dispatch_queue\n      await self.process_one()\n    File \"/opt/homebrew/Caskroom/miniforge/base/envs/cs1430_env_tf/lib/python3.8/site-packages/ipykernel/kernelbase.py\", line 493, in process_one\n      await dispatch(*args)\n    File \"/opt/homebrew/Caskroom/miniforge/base/envs/cs1430_env_tf/lib/python3.8/site-packages/ipykernel/kernelbase.py\", line 400, in dispatch_shell\n      await result\n    File \"/opt/homebrew/Caskroom/miniforge/base/envs/cs1430_env_tf/lib/python3.8/site-packages/ipykernel/kernelbase.py\", line 724, in execute_request\n      reply_content = await reply_content\n    File \"/opt/homebrew/Caskroom/miniforge/base/envs/cs1430_env_tf/lib/python3.8/site-packages/ipykernel/ipkernel.py\", line 390, in do_execute\n      res = shell.run_cell(code, store_history=store_history, silent=silent)\n    File \"/opt/homebrew/Caskroom/miniforge/base/envs/cs1430_env_tf/lib/python3.8/site-packages/ipykernel/zmqshell.py\", line 528, in run_cell\n      return super().run_cell(*args, **kwargs)\n    File \"/opt/homebrew/Caskroom/miniforge/base/envs/cs1430_env_tf/lib/python3.8/site-packages/IPython/core/interactiveshell.py\", line 2863, in run_cell\n      result = self._run_cell(\n    File \"/opt/homebrew/Caskroom/miniforge/base/envs/cs1430_env_tf/lib/python3.8/site-packages/IPython/core/interactiveshell.py\", line 2909, in _run_cell\n      return runner(coro)\n    File \"/opt/homebrew/Caskroom/miniforge/base/envs/cs1430_env_tf/lib/python3.8/site-packages/IPython/core/async_helpers.py\", line 129, in _pseudo_sync_runner\n      coro.send(None)\n    File \"/opt/homebrew/Caskroom/miniforge/base/envs/cs1430_env_tf/lib/python3.8/site-packages/IPython/core/interactiveshell.py\", line 3106, in run_cell_async\n      has_raised = await self.run_ast_nodes(code_ast.body, cell_name,\n    File \"/opt/homebrew/Caskroom/miniforge/base/envs/cs1430_env_tf/lib/python3.8/site-packages/IPython/core/interactiveshell.py\", line 3309, in run_ast_nodes\n      if await self.run_code(code, result, async_=asy):\n    File \"/opt/homebrew/Caskroom/miniforge/base/envs/cs1430_env_tf/lib/python3.8/site-packages/IPython/core/interactiveshell.py\", line 3369, in run_code\n      exec(code_obj, self.user_global_ns, self.user_ns)\n    File \"/var/folders/rq/5nk_xn9961xgb6fgn1yqq4zr0000gn/T/ipykernel_31781/244896021.py\", line 1, in <cell line: 1>\n      train(model, dataset)\n    File \"/var/folders/rq/5nk_xn9961xgb6fgn1yqq4zr0000gn/T/ipykernel_31781/4097348274.py\", line 2, in train\n      model.fit(\n    File \"/opt/homebrew/Caskroom/miniforge/base/envs/cs1430_env_tf/lib/python3.8/site-packages/keras/utils/traceback_utils.py\", line 64, in error_handler\n      return fn(*args, **kwargs)\n    File \"/opt/homebrew/Caskroom/miniforge/base/envs/cs1430_env_tf/lib/python3.8/site-packages/keras/engine/training.py\", line 1384, in fit\n      tmp_logs = self.train_function(iterator)\n    File \"/opt/homebrew/Caskroom/miniforge/base/envs/cs1430_env_tf/lib/python3.8/site-packages/keras/engine/training.py\", line 1021, in train_function\n      return step_function(self, iterator)\n    File \"/opt/homebrew/Caskroom/miniforge/base/envs/cs1430_env_tf/lib/python3.8/site-packages/keras/engine/training.py\", line 1010, in step_function\n      outputs = model.distribute_strategy.run(run_step, args=(data,))\n    File \"/opt/homebrew/Caskroom/miniforge/base/envs/cs1430_env_tf/lib/python3.8/site-packages/keras/engine/training.py\", line 1000, in run_step\n      outputs = model.train_step(data)\n    File \"/opt/homebrew/Caskroom/miniforge/base/envs/cs1430_env_tf/lib/python3.8/site-packages/keras/engine/training.py\", line 859, in train_step\n      y_pred = self(x, training=True)\n    File \"/opt/homebrew/Caskroom/miniforge/base/envs/cs1430_env_tf/lib/python3.8/site-packages/keras/utils/traceback_utils.py\", line 64, in error_handler\n      return fn(*args, **kwargs)\n    File \"/opt/homebrew/Caskroom/miniforge/base/envs/cs1430_env_tf/lib/python3.8/site-packages/keras/engine/base_layer.py\", line 1096, in __call__\n      outputs = call_fn(inputs, *args, **kwargs)\n    File \"/opt/homebrew/Caskroom/miniforge/base/envs/cs1430_env_tf/lib/python3.8/site-packages/keras/utils/traceback_utils.py\", line 92, in error_handler\n      return fn(*args, **kwargs)\n    File \"/Users/jiahuachen/Documents/Coursework/2022-spring/csci1430/colorizer/model.py\", line 24, in call\n      for layer in self.architecture:\n    File \"/Users/jiahuachen/Documents/Coursework/2022-spring/csci1430/colorizer/model.py\", line 25, in call\n      x = layer(x)\n    File \"/opt/homebrew/Caskroom/miniforge/base/envs/cs1430_env_tf/lib/python3.8/site-packages/keras/utils/traceback_utils.py\", line 64, in error_handler\n      return fn(*args, **kwargs)\n    File \"/opt/homebrew/Caskroom/miniforge/base/envs/cs1430_env_tf/lib/python3.8/site-packages/keras/engine/base_layer.py\", line 1096, in __call__\n      outputs = call_fn(inputs, *args, **kwargs)\n    File \"/opt/homebrew/Caskroom/miniforge/base/envs/cs1430_env_tf/lib/python3.8/site-packages/keras/utils/traceback_utils.py\", line 92, in error_handler\n      return fn(*args, **kwargs)\n    File \"/opt/homebrew/Caskroom/miniforge/base/envs/cs1430_env_tf/lib/python3.8/site-packages/keras/layers/core/dense.py\", line 222, in call\n      outputs = tf.tensordot(inputs, self.kernel, [[rank - 1], [0]])\nNode: 'model/dense1_256/Tensordot/MatMul'\nDetected at node 'model/dense1_256/Tensordot/MatMul' defined at (most recent call last):\n    File \"/opt/homebrew/Caskroom/miniforge/base/envs/cs1430_env_tf/lib/python3.8/runpy.py\", line 194, in _run_module_as_main\n      return _run_code(code, main_globals, None,\n    File \"/opt/homebrew/Caskroom/miniforge/base/envs/cs1430_env_tf/lib/python3.8/runpy.py\", line 87, in _run_code\n      exec(code, run_globals)\n    File \"/opt/homebrew/Caskroom/miniforge/base/envs/cs1430_env_tf/lib/python3.8/site-packages/ipykernel_launcher.py\", line 17, in <module>\n      app.launch_new_instance()\n    File \"/opt/homebrew/Caskroom/miniforge/base/envs/cs1430_env_tf/lib/python3.8/site-packages/traitlets/config/application.py\", line 846, in launch_instance\n      app.start()\n    File \"/opt/homebrew/Caskroom/miniforge/base/envs/cs1430_env_tf/lib/python3.8/site-packages/ipykernel/kernelapp.py\", line 712, in start\n      self.io_loop.start()\n    File \"/opt/homebrew/Caskroom/miniforge/base/envs/cs1430_env_tf/lib/python3.8/site-packages/tornado/platform/asyncio.py\", line 199, in start\n      self.asyncio_loop.run_forever()\n    File \"/opt/homebrew/Caskroom/miniforge/base/envs/cs1430_env_tf/lib/python3.8/asyncio/base_events.py\", line 570, in run_forever\n      self._run_once()\n    File \"/opt/homebrew/Caskroom/miniforge/base/envs/cs1430_env_tf/lib/python3.8/asyncio/base_events.py\", line 1859, in _run_once\n      handle._run()\n    File \"/opt/homebrew/Caskroom/miniforge/base/envs/cs1430_env_tf/lib/python3.8/asyncio/events.py\", line 81, in _run\n      self._context.run(self._callback, *self._args)\n    File \"/opt/homebrew/Caskroom/miniforge/base/envs/cs1430_env_tf/lib/python3.8/site-packages/ipykernel/kernelbase.py\", line 504, in dispatch_queue\n      await self.process_one()\n    File \"/opt/homebrew/Caskroom/miniforge/base/envs/cs1430_env_tf/lib/python3.8/site-packages/ipykernel/kernelbase.py\", line 493, in process_one\n      await dispatch(*args)\n    File \"/opt/homebrew/Caskroom/miniforge/base/envs/cs1430_env_tf/lib/python3.8/site-packages/ipykernel/kernelbase.py\", line 400, in dispatch_shell\n      await result\n    File \"/opt/homebrew/Caskroom/miniforge/base/envs/cs1430_env_tf/lib/python3.8/site-packages/ipykernel/kernelbase.py\", line 724, in execute_request\n      reply_content = await reply_content\n    File \"/opt/homebrew/Caskroom/miniforge/base/envs/cs1430_env_tf/lib/python3.8/site-packages/ipykernel/ipkernel.py\", line 390, in do_execute\n      res = shell.run_cell(code, store_history=store_history, silent=silent)\n    File \"/opt/homebrew/Caskroom/miniforge/base/envs/cs1430_env_tf/lib/python3.8/site-packages/ipykernel/zmqshell.py\", line 528, in run_cell\n      return super().run_cell(*args, **kwargs)\n    File \"/opt/homebrew/Caskroom/miniforge/base/envs/cs1430_env_tf/lib/python3.8/site-packages/IPython/core/interactiveshell.py\", line 2863, in run_cell\n      result = self._run_cell(\n    File \"/opt/homebrew/Caskroom/miniforge/base/envs/cs1430_env_tf/lib/python3.8/site-packages/IPython/core/interactiveshell.py\", line 2909, in _run_cell\n      return runner(coro)\n    File \"/opt/homebrew/Caskroom/miniforge/base/envs/cs1430_env_tf/lib/python3.8/site-packages/IPython/core/async_helpers.py\", line 129, in _pseudo_sync_runner\n      coro.send(None)\n    File \"/opt/homebrew/Caskroom/miniforge/base/envs/cs1430_env_tf/lib/python3.8/site-packages/IPython/core/interactiveshell.py\", line 3106, in run_cell_async\n      has_raised = await self.run_ast_nodes(code_ast.body, cell_name,\n    File \"/opt/homebrew/Caskroom/miniforge/base/envs/cs1430_env_tf/lib/python3.8/site-packages/IPython/core/interactiveshell.py\", line 3309, in run_ast_nodes\n      if await self.run_code(code, result, async_=asy):\n    File \"/opt/homebrew/Caskroom/miniforge/base/envs/cs1430_env_tf/lib/python3.8/site-packages/IPython/core/interactiveshell.py\", line 3369, in run_code\n      exec(code_obj, self.user_global_ns, self.user_ns)\n    File \"/var/folders/rq/5nk_xn9961xgb6fgn1yqq4zr0000gn/T/ipykernel_31781/244896021.py\", line 1, in <cell line: 1>\n      train(model, dataset)\n    File \"/var/folders/rq/5nk_xn9961xgb6fgn1yqq4zr0000gn/T/ipykernel_31781/4097348274.py\", line 2, in train\n      model.fit(\n    File \"/opt/homebrew/Caskroom/miniforge/base/envs/cs1430_env_tf/lib/python3.8/site-packages/keras/utils/traceback_utils.py\", line 64, in error_handler\n      return fn(*args, **kwargs)\n    File \"/opt/homebrew/Caskroom/miniforge/base/envs/cs1430_env_tf/lib/python3.8/site-packages/keras/engine/training.py\", line 1384, in fit\n      tmp_logs = self.train_function(iterator)\n    File \"/opt/homebrew/Caskroom/miniforge/base/envs/cs1430_env_tf/lib/python3.8/site-packages/keras/engine/training.py\", line 1021, in train_function\n      return step_function(self, iterator)\n    File \"/opt/homebrew/Caskroom/miniforge/base/envs/cs1430_env_tf/lib/python3.8/site-packages/keras/engine/training.py\", line 1010, in step_function\n      outputs = model.distribute_strategy.run(run_step, args=(data,))\n    File \"/opt/homebrew/Caskroom/miniforge/base/envs/cs1430_env_tf/lib/python3.8/site-packages/keras/engine/training.py\", line 1000, in run_step\n      outputs = model.train_step(data)\n    File \"/opt/homebrew/Caskroom/miniforge/base/envs/cs1430_env_tf/lib/python3.8/site-packages/keras/engine/training.py\", line 859, in train_step\n      y_pred = self(x, training=True)\n    File \"/opt/homebrew/Caskroom/miniforge/base/envs/cs1430_env_tf/lib/python3.8/site-packages/keras/utils/traceback_utils.py\", line 64, in error_handler\n      return fn(*args, **kwargs)\n    File \"/opt/homebrew/Caskroom/miniforge/base/envs/cs1430_env_tf/lib/python3.8/site-packages/keras/engine/base_layer.py\", line 1096, in __call__\n      outputs = call_fn(inputs, *args, **kwargs)\n    File \"/opt/homebrew/Caskroom/miniforge/base/envs/cs1430_env_tf/lib/python3.8/site-packages/keras/utils/traceback_utils.py\", line 92, in error_handler\n      return fn(*args, **kwargs)\n    File \"/Users/jiahuachen/Documents/Coursework/2022-spring/csci1430/colorizer/model.py\", line 24, in call\n      for layer in self.architecture:\n    File \"/Users/jiahuachen/Documents/Coursework/2022-spring/csci1430/colorizer/model.py\", line 25, in call\n      x = layer(x)\n    File \"/opt/homebrew/Caskroom/miniforge/base/envs/cs1430_env_tf/lib/python3.8/site-packages/keras/utils/traceback_utils.py\", line 64, in error_handler\n      return fn(*args, **kwargs)\n    File \"/opt/homebrew/Caskroom/miniforge/base/envs/cs1430_env_tf/lib/python3.8/site-packages/keras/engine/base_layer.py\", line 1096, in __call__\n      outputs = call_fn(inputs, *args, **kwargs)\n    File \"/opt/homebrew/Caskroom/miniforge/base/envs/cs1430_env_tf/lib/python3.8/site-packages/keras/utils/traceback_utils.py\", line 92, in error_handler\n      return fn(*args, **kwargs)\n    File \"/opt/homebrew/Caskroom/miniforge/base/envs/cs1430_env_tf/lib/python3.8/site-packages/keras/layers/core/dense.py\", line 222, in call\n      outputs = tf.tensordot(inputs, self.kernel, [[rank - 1], [0]])\nNode: 'model/dense1_256/Tensordot/MatMul'\n2 root error(s) found.\n  (0) INVALID_ARGUMENT:  In[0] mismatch In[1] shape: 3 vs. 256: [29952,3] [256,256] 0 0\n\t [[{{node model/dense1_256/Tensordot/MatMul}}]]\n\t [[mean_squared_error/SquaredDifference/_44]]\n  (1) INVALID_ARGUMENT:  In[0] mismatch In[1] shape: 3 vs. 256: [29952,3] [256,256] 0 0\n\t [[{{node model/dense1_256/Tensordot/MatMul}}]]\n0 successful operations.\n0 derived errors ignored. [Op:__inference_train_function_939]",
     "output_type": "error",
     "traceback": [
      "\u001b[0;31m---------------------------------------------------------------------------\u001b[0m",
      "\u001b[0;31mInvalidArgumentError\u001b[0m                      Traceback (most recent call last)",
      "\u001b[1;32m/Users/jiahuachen/Documents/Coursework/2022-spring/csci1430/colorizer/run.ipynb Cell 5'\u001b[0m in \u001b[0;36m<cell line: 1>\u001b[0;34m()\u001b[0m\n\u001b[0;32m----> <a href='vscode-notebook-cell:/Users/jiahuachen/Documents/Coursework/2022-spring/csci1430/colorizer/run.ipynb#ch0000009?line=0'>1</a>\u001b[0m train(model, dataset)\n",
      "\u001b[1;32m/Users/jiahuachen/Documents/Coursework/2022-spring/csci1430/colorizer/run.ipynb Cell 2'\u001b[0m in \u001b[0;36mtrain\u001b[0;34m(model, datasets)\u001b[0m\n\u001b[1;32m      <a href='vscode-notebook-cell:/Users/jiahuachen/Documents/Coursework/2022-spring/csci1430/colorizer/run.ipynb#ch0000001?line=0'>1</a>\u001b[0m \u001b[39mdef\u001b[39;00m \u001b[39mtrain\u001b[39m(model, datasets):\n\u001b[0;32m----> <a href='vscode-notebook-cell:/Users/jiahuachen/Documents/Coursework/2022-spring/csci1430/colorizer/run.ipynb#ch0000001?line=1'>2</a>\u001b[0m     model\u001b[39m.\u001b[39;49mfit(\n\u001b[1;32m      <a href='vscode-notebook-cell:/Users/jiahuachen/Documents/Coursework/2022-spring/csci1430/colorizer/run.ipynb#ch0000001?line=2'>3</a>\u001b[0m         x\u001b[39m=\u001b[39;49mdatasets\u001b[39m.\u001b[39;49mtrain_data,\n\u001b[1;32m      <a href='vscode-notebook-cell:/Users/jiahuachen/Documents/Coursework/2022-spring/csci1430/colorizer/run.ipynb#ch0000001?line=3'>4</a>\u001b[0m         validation_data\u001b[39m=\u001b[39;49mdatasets\u001b[39m.\u001b[39;49mtest_data,\n\u001b[1;32m      <a href='vscode-notebook-cell:/Users/jiahuachen/Documents/Coursework/2022-spring/csci1430/colorizer/run.ipynb#ch0000001?line=4'>5</a>\u001b[0m         epochs\u001b[39m=\u001b[39;49mhp\u001b[39m.\u001b[39;49mnum_epochs,\n\u001b[1;32m      <a href='vscode-notebook-cell:/Users/jiahuachen/Documents/Coursework/2022-spring/csci1430/colorizer/run.ipynb#ch0000001?line=5'>6</a>\u001b[0m         batch_size\u001b[39m=\u001b[39;49m\u001b[39mNone\u001b[39;49;00m,\n\u001b[1;32m      <a href='vscode-notebook-cell:/Users/jiahuachen/Documents/Coursework/2022-spring/csci1430/colorizer/run.ipynb#ch0000001?line=6'>7</a>\u001b[0m     )\n",
      "File \u001b[0;32m/opt/homebrew/Caskroom/miniforge/base/envs/cs1430_env_tf/lib/python3.8/site-packages/keras/utils/traceback_utils.py:67\u001b[0m, in \u001b[0;36mfilter_traceback.<locals>.error_handler\u001b[0;34m(*args, **kwargs)\u001b[0m\n\u001b[1;32m     <a href='file:///opt/homebrew/Caskroom/miniforge/base/envs/cs1430_env_tf/lib/python3.8/site-packages/keras/utils/traceback_utils.py?line=64'>65</a>\u001b[0m \u001b[39mexcept\u001b[39;00m \u001b[39mException\u001b[39;00m \u001b[39mas\u001b[39;00m e:  \u001b[39m# pylint: disable=broad-except\u001b[39;00m\n\u001b[1;32m     <a href='file:///opt/homebrew/Caskroom/miniforge/base/envs/cs1430_env_tf/lib/python3.8/site-packages/keras/utils/traceback_utils.py?line=65'>66</a>\u001b[0m   filtered_tb \u001b[39m=\u001b[39m _process_traceback_frames(e\u001b[39m.\u001b[39m__traceback__)\n\u001b[0;32m---> <a href='file:///opt/homebrew/Caskroom/miniforge/base/envs/cs1430_env_tf/lib/python3.8/site-packages/keras/utils/traceback_utils.py?line=66'>67</a>\u001b[0m   \u001b[39mraise\u001b[39;00m e\u001b[39m.\u001b[39mwith_traceback(filtered_tb) \u001b[39mfrom\u001b[39;00m \u001b[39mNone\u001b[39m\n\u001b[1;32m     <a href='file:///opt/homebrew/Caskroom/miniforge/base/envs/cs1430_env_tf/lib/python3.8/site-packages/keras/utils/traceback_utils.py?line=67'>68</a>\u001b[0m \u001b[39mfinally\u001b[39;00m:\n\u001b[1;32m     <a href='file:///opt/homebrew/Caskroom/miniforge/base/envs/cs1430_env_tf/lib/python3.8/site-packages/keras/utils/traceback_utils.py?line=68'>69</a>\u001b[0m   \u001b[39mdel\u001b[39;00m filtered_tb\n",
      "File \u001b[0;32m/opt/homebrew/Caskroom/miniforge/base/envs/cs1430_env_tf/lib/python3.8/site-packages/tensorflow/python/eager/execute.py:54\u001b[0m, in \u001b[0;36mquick_execute\u001b[0;34m(op_name, num_outputs, inputs, attrs, ctx, name)\u001b[0m\n\u001b[1;32m     <a href='file:///opt/homebrew/Caskroom/miniforge/base/envs/cs1430_env_tf/lib/python3.8/site-packages/tensorflow/python/eager/execute.py?line=51'>52</a>\u001b[0m \u001b[39mtry\u001b[39;00m:\n\u001b[1;32m     <a href='file:///opt/homebrew/Caskroom/miniforge/base/envs/cs1430_env_tf/lib/python3.8/site-packages/tensorflow/python/eager/execute.py?line=52'>53</a>\u001b[0m   ctx\u001b[39m.\u001b[39mensure_initialized()\n\u001b[0;32m---> <a href='file:///opt/homebrew/Caskroom/miniforge/base/envs/cs1430_env_tf/lib/python3.8/site-packages/tensorflow/python/eager/execute.py?line=53'>54</a>\u001b[0m   tensors \u001b[39m=\u001b[39m pywrap_tfe\u001b[39m.\u001b[39mTFE_Py_Execute(ctx\u001b[39m.\u001b[39m_handle, device_name, op_name,\n\u001b[1;32m     <a href='file:///opt/homebrew/Caskroom/miniforge/base/envs/cs1430_env_tf/lib/python3.8/site-packages/tensorflow/python/eager/execute.py?line=54'>55</a>\u001b[0m                                       inputs, attrs, num_outputs)\n\u001b[1;32m     <a href='file:///opt/homebrew/Caskroom/miniforge/base/envs/cs1430_env_tf/lib/python3.8/site-packages/tensorflow/python/eager/execute.py?line=55'>56</a>\u001b[0m \u001b[39mexcept\u001b[39;00m core\u001b[39m.\u001b[39m_NotOkStatusException \u001b[39mas\u001b[39;00m e:\n\u001b[1;32m     <a href='file:///opt/homebrew/Caskroom/miniforge/base/envs/cs1430_env_tf/lib/python3.8/site-packages/tensorflow/python/eager/execute.py?line=56'>57</a>\u001b[0m   \u001b[39mif\u001b[39;00m name \u001b[39mis\u001b[39;00m \u001b[39mnot\u001b[39;00m \u001b[39mNone\u001b[39;00m:\n",
      "\u001b[0;31mInvalidArgumentError\u001b[0m: Graph execution error:\n\nDetected at node 'model/dense1_256/Tensordot/MatMul' defined at (most recent call last):\n    File \"/opt/homebrew/Caskroom/miniforge/base/envs/cs1430_env_tf/lib/python3.8/runpy.py\", line 194, in _run_module_as_main\n      return _run_code(code, main_globals, None,\n    File \"/opt/homebrew/Caskroom/miniforge/base/envs/cs1430_env_tf/lib/python3.8/runpy.py\", line 87, in _run_code\n      exec(code, run_globals)\n    File \"/opt/homebrew/Caskroom/miniforge/base/envs/cs1430_env_tf/lib/python3.8/site-packages/ipykernel_launcher.py\", line 17, in <module>\n      app.launch_new_instance()\n    File \"/opt/homebrew/Caskroom/miniforge/base/envs/cs1430_env_tf/lib/python3.8/site-packages/traitlets/config/application.py\", line 846, in launch_instance\n      app.start()\n    File \"/opt/homebrew/Caskroom/miniforge/base/envs/cs1430_env_tf/lib/python3.8/site-packages/ipykernel/kernelapp.py\", line 712, in start\n      self.io_loop.start()\n    File \"/opt/homebrew/Caskroom/miniforge/base/envs/cs1430_env_tf/lib/python3.8/site-packages/tornado/platform/asyncio.py\", line 199, in start\n      self.asyncio_loop.run_forever()\n    File \"/opt/homebrew/Caskroom/miniforge/base/envs/cs1430_env_tf/lib/python3.8/asyncio/base_events.py\", line 570, in run_forever\n      self._run_once()\n    File \"/opt/homebrew/Caskroom/miniforge/base/envs/cs1430_env_tf/lib/python3.8/asyncio/base_events.py\", line 1859, in _run_once\n      handle._run()\n    File \"/opt/homebrew/Caskroom/miniforge/base/envs/cs1430_env_tf/lib/python3.8/asyncio/events.py\", line 81, in _run\n      self._context.run(self._callback, *self._args)\n    File \"/opt/homebrew/Caskroom/miniforge/base/envs/cs1430_env_tf/lib/python3.8/site-packages/ipykernel/kernelbase.py\", line 504, in dispatch_queue\n      await self.process_one()\n    File \"/opt/homebrew/Caskroom/miniforge/base/envs/cs1430_env_tf/lib/python3.8/site-packages/ipykernel/kernelbase.py\", line 493, in process_one\n      await dispatch(*args)\n    File \"/opt/homebrew/Caskroom/miniforge/base/envs/cs1430_env_tf/lib/python3.8/site-packages/ipykernel/kernelbase.py\", line 400, in dispatch_shell\n      await result\n    File \"/opt/homebrew/Caskroom/miniforge/base/envs/cs1430_env_tf/lib/python3.8/site-packages/ipykernel/kernelbase.py\", line 724, in execute_request\n      reply_content = await reply_content\n    File \"/opt/homebrew/Caskroom/miniforge/base/envs/cs1430_env_tf/lib/python3.8/site-packages/ipykernel/ipkernel.py\", line 390, in do_execute\n      res = shell.run_cell(code, store_history=store_history, silent=silent)\n    File \"/opt/homebrew/Caskroom/miniforge/base/envs/cs1430_env_tf/lib/python3.8/site-packages/ipykernel/zmqshell.py\", line 528, in run_cell\n      return super().run_cell(*args, **kwargs)\n    File \"/opt/homebrew/Caskroom/miniforge/base/envs/cs1430_env_tf/lib/python3.8/site-packages/IPython/core/interactiveshell.py\", line 2863, in run_cell\n      result = self._run_cell(\n    File \"/opt/homebrew/Caskroom/miniforge/base/envs/cs1430_env_tf/lib/python3.8/site-packages/IPython/core/interactiveshell.py\", line 2909, in _run_cell\n      return runner(coro)\n    File \"/opt/homebrew/Caskroom/miniforge/base/envs/cs1430_env_tf/lib/python3.8/site-packages/IPython/core/async_helpers.py\", line 129, in _pseudo_sync_runner\n      coro.send(None)\n    File \"/opt/homebrew/Caskroom/miniforge/base/envs/cs1430_env_tf/lib/python3.8/site-packages/IPython/core/interactiveshell.py\", line 3106, in run_cell_async\n      has_raised = await self.run_ast_nodes(code_ast.body, cell_name,\n    File \"/opt/homebrew/Caskroom/miniforge/base/envs/cs1430_env_tf/lib/python3.8/site-packages/IPython/core/interactiveshell.py\", line 3309, in run_ast_nodes\n      if await self.run_code(code, result, async_=asy):\n    File \"/opt/homebrew/Caskroom/miniforge/base/envs/cs1430_env_tf/lib/python3.8/site-packages/IPython/core/interactiveshell.py\", line 3369, in run_code\n      exec(code_obj, self.user_global_ns, self.user_ns)\n    File \"/var/folders/rq/5nk_xn9961xgb6fgn1yqq4zr0000gn/T/ipykernel_31781/244896021.py\", line 1, in <cell line: 1>\n      train(model, dataset)\n    File \"/var/folders/rq/5nk_xn9961xgb6fgn1yqq4zr0000gn/T/ipykernel_31781/4097348274.py\", line 2, in train\n      model.fit(\n    File \"/opt/homebrew/Caskroom/miniforge/base/envs/cs1430_env_tf/lib/python3.8/site-packages/keras/utils/traceback_utils.py\", line 64, in error_handler\n      return fn(*args, **kwargs)\n    File \"/opt/homebrew/Caskroom/miniforge/base/envs/cs1430_env_tf/lib/python3.8/site-packages/keras/engine/training.py\", line 1384, in fit\n      tmp_logs = self.train_function(iterator)\n    File \"/opt/homebrew/Caskroom/miniforge/base/envs/cs1430_env_tf/lib/python3.8/site-packages/keras/engine/training.py\", line 1021, in train_function\n      return step_function(self, iterator)\n    File \"/opt/homebrew/Caskroom/miniforge/base/envs/cs1430_env_tf/lib/python3.8/site-packages/keras/engine/training.py\", line 1010, in step_function\n      outputs = model.distribute_strategy.run(run_step, args=(data,))\n    File \"/opt/homebrew/Caskroom/miniforge/base/envs/cs1430_env_tf/lib/python3.8/site-packages/keras/engine/training.py\", line 1000, in run_step\n      outputs = model.train_step(data)\n    File \"/opt/homebrew/Caskroom/miniforge/base/envs/cs1430_env_tf/lib/python3.8/site-packages/keras/engine/training.py\", line 859, in train_step\n      y_pred = self(x, training=True)\n    File \"/opt/homebrew/Caskroom/miniforge/base/envs/cs1430_env_tf/lib/python3.8/site-packages/keras/utils/traceback_utils.py\", line 64, in error_handler\n      return fn(*args, **kwargs)\n    File \"/opt/homebrew/Caskroom/miniforge/base/envs/cs1430_env_tf/lib/python3.8/site-packages/keras/engine/base_layer.py\", line 1096, in __call__\n      outputs = call_fn(inputs, *args, **kwargs)\n    File \"/opt/homebrew/Caskroom/miniforge/base/envs/cs1430_env_tf/lib/python3.8/site-packages/keras/utils/traceback_utils.py\", line 92, in error_handler\n      return fn(*args, **kwargs)\n    File \"/Users/jiahuachen/Documents/Coursework/2022-spring/csci1430/colorizer/model.py\", line 24, in call\n      for layer in self.architecture:\n    File \"/Users/jiahuachen/Documents/Coursework/2022-spring/csci1430/colorizer/model.py\", line 25, in call\n      x = layer(x)\n    File \"/opt/homebrew/Caskroom/miniforge/base/envs/cs1430_env_tf/lib/python3.8/site-packages/keras/utils/traceback_utils.py\", line 64, in error_handler\n      return fn(*args, **kwargs)\n    File \"/opt/homebrew/Caskroom/miniforge/base/envs/cs1430_env_tf/lib/python3.8/site-packages/keras/engine/base_layer.py\", line 1096, in __call__\n      outputs = call_fn(inputs, *args, **kwargs)\n    File \"/opt/homebrew/Caskroom/miniforge/base/envs/cs1430_env_tf/lib/python3.8/site-packages/keras/utils/traceback_utils.py\", line 92, in error_handler\n      return fn(*args, **kwargs)\n    File \"/opt/homebrew/Caskroom/miniforge/base/envs/cs1430_env_tf/lib/python3.8/site-packages/keras/layers/core/dense.py\", line 222, in call\n      outputs = tf.tensordot(inputs, self.kernel, [[rank - 1], [0]])\nNode: 'model/dense1_256/Tensordot/MatMul'\nDetected at node 'model/dense1_256/Tensordot/MatMul' defined at (most recent call last):\n    File \"/opt/homebrew/Caskroom/miniforge/base/envs/cs1430_env_tf/lib/python3.8/runpy.py\", line 194, in _run_module_as_main\n      return _run_code(code, main_globals, None,\n    File \"/opt/homebrew/Caskroom/miniforge/base/envs/cs1430_env_tf/lib/python3.8/runpy.py\", line 87, in _run_code\n      exec(code, run_globals)\n    File \"/opt/homebrew/Caskroom/miniforge/base/envs/cs1430_env_tf/lib/python3.8/site-packages/ipykernel_launcher.py\", line 17, in <module>\n      app.launch_new_instance()\n    File \"/opt/homebrew/Caskroom/miniforge/base/envs/cs1430_env_tf/lib/python3.8/site-packages/traitlets/config/application.py\", line 846, in launch_instance\n      app.start()\n    File \"/opt/homebrew/Caskroom/miniforge/base/envs/cs1430_env_tf/lib/python3.8/site-packages/ipykernel/kernelapp.py\", line 712, in start\n      self.io_loop.start()\n    File \"/opt/homebrew/Caskroom/miniforge/base/envs/cs1430_env_tf/lib/python3.8/site-packages/tornado/platform/asyncio.py\", line 199, in start\n      self.asyncio_loop.run_forever()\n    File \"/opt/homebrew/Caskroom/miniforge/base/envs/cs1430_env_tf/lib/python3.8/asyncio/base_events.py\", line 570, in run_forever\n      self._run_once()\n    File \"/opt/homebrew/Caskroom/miniforge/base/envs/cs1430_env_tf/lib/python3.8/asyncio/base_events.py\", line 1859, in _run_once\n      handle._run()\n    File \"/opt/homebrew/Caskroom/miniforge/base/envs/cs1430_env_tf/lib/python3.8/asyncio/events.py\", line 81, in _run\n      self._context.run(self._callback, *self._args)\n    File \"/opt/homebrew/Caskroom/miniforge/base/envs/cs1430_env_tf/lib/python3.8/site-packages/ipykernel/kernelbase.py\", line 504, in dispatch_queue\n      await self.process_one()\n    File \"/opt/homebrew/Caskroom/miniforge/base/envs/cs1430_env_tf/lib/python3.8/site-packages/ipykernel/kernelbase.py\", line 493, in process_one\n      await dispatch(*args)\n    File \"/opt/homebrew/Caskroom/miniforge/base/envs/cs1430_env_tf/lib/python3.8/site-packages/ipykernel/kernelbase.py\", line 400, in dispatch_shell\n      await result\n    File \"/opt/homebrew/Caskroom/miniforge/base/envs/cs1430_env_tf/lib/python3.8/site-packages/ipykernel/kernelbase.py\", line 724, in execute_request\n      reply_content = await reply_content\n    File \"/opt/homebrew/Caskroom/miniforge/base/envs/cs1430_env_tf/lib/python3.8/site-packages/ipykernel/ipkernel.py\", line 390, in do_execute\n      res = shell.run_cell(code, store_history=store_history, silent=silent)\n    File \"/opt/homebrew/Caskroom/miniforge/base/envs/cs1430_env_tf/lib/python3.8/site-packages/ipykernel/zmqshell.py\", line 528, in run_cell\n      return super().run_cell(*args, **kwargs)\n    File \"/opt/homebrew/Caskroom/miniforge/base/envs/cs1430_env_tf/lib/python3.8/site-packages/IPython/core/interactiveshell.py\", line 2863, in run_cell\n      result = self._run_cell(\n    File \"/opt/homebrew/Caskroom/miniforge/base/envs/cs1430_env_tf/lib/python3.8/site-packages/IPython/core/interactiveshell.py\", line 2909, in _run_cell\n      return runner(coro)\n    File \"/opt/homebrew/Caskroom/miniforge/base/envs/cs1430_env_tf/lib/python3.8/site-packages/IPython/core/async_helpers.py\", line 129, in _pseudo_sync_runner\n      coro.send(None)\n    File \"/opt/homebrew/Caskroom/miniforge/base/envs/cs1430_env_tf/lib/python3.8/site-packages/IPython/core/interactiveshell.py\", line 3106, in run_cell_async\n      has_raised = await self.run_ast_nodes(code_ast.body, cell_name,\n    File \"/opt/homebrew/Caskroom/miniforge/base/envs/cs1430_env_tf/lib/python3.8/site-packages/IPython/core/interactiveshell.py\", line 3309, in run_ast_nodes\n      if await self.run_code(code, result, async_=asy):\n    File \"/opt/homebrew/Caskroom/miniforge/base/envs/cs1430_env_tf/lib/python3.8/site-packages/IPython/core/interactiveshell.py\", line 3369, in run_code\n      exec(code_obj, self.user_global_ns, self.user_ns)\n    File \"/var/folders/rq/5nk_xn9961xgb6fgn1yqq4zr0000gn/T/ipykernel_31781/244896021.py\", line 1, in <cell line: 1>\n      train(model, dataset)\n    File \"/var/folders/rq/5nk_xn9961xgb6fgn1yqq4zr0000gn/T/ipykernel_31781/4097348274.py\", line 2, in train\n      model.fit(\n    File \"/opt/homebrew/Caskroom/miniforge/base/envs/cs1430_env_tf/lib/python3.8/site-packages/keras/utils/traceback_utils.py\", line 64, in error_handler\n      return fn(*args, **kwargs)\n    File \"/opt/homebrew/Caskroom/miniforge/base/envs/cs1430_env_tf/lib/python3.8/site-packages/keras/engine/training.py\", line 1384, in fit\n      tmp_logs = self.train_function(iterator)\n    File \"/opt/homebrew/Caskroom/miniforge/base/envs/cs1430_env_tf/lib/python3.8/site-packages/keras/engine/training.py\", line 1021, in train_function\n      return step_function(self, iterator)\n    File \"/opt/homebrew/Caskroom/miniforge/base/envs/cs1430_env_tf/lib/python3.8/site-packages/keras/engine/training.py\", line 1010, in step_function\n      outputs = model.distribute_strategy.run(run_step, args=(data,))\n    File \"/opt/homebrew/Caskroom/miniforge/base/envs/cs1430_env_tf/lib/python3.8/site-packages/keras/engine/training.py\", line 1000, in run_step\n      outputs = model.train_step(data)\n    File \"/opt/homebrew/Caskroom/miniforge/base/envs/cs1430_env_tf/lib/python3.8/site-packages/keras/engine/training.py\", line 859, in train_step\n      y_pred = self(x, training=True)\n    File \"/opt/homebrew/Caskroom/miniforge/base/envs/cs1430_env_tf/lib/python3.8/site-packages/keras/utils/traceback_utils.py\", line 64, in error_handler\n      return fn(*args, **kwargs)\n    File \"/opt/homebrew/Caskroom/miniforge/base/envs/cs1430_env_tf/lib/python3.8/site-packages/keras/engine/base_layer.py\", line 1096, in __call__\n      outputs = call_fn(inputs, *args, **kwargs)\n    File \"/opt/homebrew/Caskroom/miniforge/base/envs/cs1430_env_tf/lib/python3.8/site-packages/keras/utils/traceback_utils.py\", line 92, in error_handler\n      return fn(*args, **kwargs)\n    File \"/Users/jiahuachen/Documents/Coursework/2022-spring/csci1430/colorizer/model.py\", line 24, in call\n      for layer in self.architecture:\n    File \"/Users/jiahuachen/Documents/Coursework/2022-spring/csci1430/colorizer/model.py\", line 25, in call\n      x = layer(x)\n    File \"/opt/homebrew/Caskroom/miniforge/base/envs/cs1430_env_tf/lib/python3.8/site-packages/keras/utils/traceback_utils.py\", line 64, in error_handler\n      return fn(*args, **kwargs)\n    File \"/opt/homebrew/Caskroom/miniforge/base/envs/cs1430_env_tf/lib/python3.8/site-packages/keras/engine/base_layer.py\", line 1096, in __call__\n      outputs = call_fn(inputs, *args, **kwargs)\n    File \"/opt/homebrew/Caskroom/miniforge/base/envs/cs1430_env_tf/lib/python3.8/site-packages/keras/utils/traceback_utils.py\", line 92, in error_handler\n      return fn(*args, **kwargs)\n    File \"/opt/homebrew/Caskroom/miniforge/base/envs/cs1430_env_tf/lib/python3.8/site-packages/keras/layers/core/dense.py\", line 222, in call\n      outputs = tf.tensordot(inputs, self.kernel, [[rank - 1], [0]])\nNode: 'model/dense1_256/Tensordot/MatMul'\n2 root error(s) found.\n  (0) INVALID_ARGUMENT:  In[0] mismatch In[1] shape: 3 vs. 256: [29952,3] [256,256] 0 0\n\t [[{{node model/dense1_256/Tensordot/MatMul}}]]\n\t [[mean_squared_error/SquaredDifference/_44]]\n  (1) INVALID_ARGUMENT:  In[0] mismatch In[1] shape: 3 vs. 256: [29952,3] [256,256] 0 0\n\t [[{{node model/dense1_256/Tensordot/MatMul}}]]\n0 successful operations.\n0 derived errors ignored. [Op:__inference_train_function_939]"
     ]
    }
   ],
   "source": [
    "train(model, dataset)"
   ]
  },
  {
   "cell_type": "code",
   "execution_count": null,
   "metadata": {},
   "outputs": [],
   "source": []
  }
 ],
 "metadata": {
  "interpreter": {
   "hash": "442dfac670faa895634c1d926415991dc77d85097da9cb8eb53433821b169e6c"
  },
  "kernelspec": {
   "display_name": "Python 3.8.13 ('cs1430_env_tf')",
   "language": "python",
   "name": "python3"
  },
  "language_info": {
   "codemirror_mode": {
    "name": "ipython",
    "version": 3
   },
   "file_extension": ".py",
   "mimetype": "text/x-python",
   "name": "python",
   "nbconvert_exporter": "python",
   "pygments_lexer": "ipython3",
   "version": "3.8.13"
  },
  "orig_nbformat": 4
 },
 "nbformat": 4,
 "nbformat_minor": 2
}
